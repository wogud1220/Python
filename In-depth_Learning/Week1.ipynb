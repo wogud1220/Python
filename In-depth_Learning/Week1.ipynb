{
 "cells": [
  {
   "cell_type": "code",
   "execution_count": 2,
   "metadata": {},
   "outputs": [
    {
     "name": "stdout",
     "output_type": "stream",
     "text": [
      "123~~ 5000000050000000\n",
      "소요시간은 7.015350103378296 입니다.\n"
     ]
    }
   ],
   "source": [
    "import time\n",
    "start = time.time()\n",
    "\n",
    "sum = 0\n",
    "for i in range(1,100000001):\n",
    "    sum= sum+i\n",
    "\n",
    "end = time.time()  \n",
    "print('123~~', sum)\n",
    "print('소요시간은', end-start, '입니다.')"
   ]
  },
  {
   "cell_type": "code",
   "execution_count": 3,
   "metadata": {},
   "outputs": [
    {
     "name": "stdout",
     "output_type": "stream",
     "text": [
      "[프리미어 리그 속보(2024-09-10 12:29:06.998684)Jin손흥민 선수는 런던에서 8월 6일 오후 7시에 열린 경기에 출전하였습니다.상대 팀은 맨체스터입니다.손흥민 선수의 팀이 4골을 넣어 2골을 넣은 상대 팀 을 이겼습니다. 손흥민 선수는 2골에 도움 1개로 승리를 크게 이끌었습니다.손홍민 선수의 팀이4골을 넣어2골을 넣은상대 팀을 이겼습니다.\n"
     ]
    }
   ],
   "source": [
    "import random\n",
    "place=input(\"경기가 열린 곳은? \")\n",
    "\n",
    "time=input(\"경기가 열린 시간은? \")\n",
    "\n",
    "opponent=input (\"상대 팀은? \")\n",
    "\n",
    "goals=input(\"손흥민은 몇 골을 넣었나요? \")\n",
    "\n",
    "aids=input (\"도움은 몇 개인가요? \")\n",
    "\n",
    "score_me=input(\"손흥민 팀이 넣은 골 수는? \")\n",
    "\n",
    "score_you=input(\"상대 팀이 넣은 골 수는? \")\n",
    "from datetime import datetime\n",
    "# 경기 결과 입력 받는 곳\n",
    "# 기사 작성하는 곳\n",
    "news=\"[프리미어 리그 속보(\"+str(datetime.now())+\")Jin\"\n",
    "news=news+\"손흥민 선수는 \"+place+\"에서 \"+time+\"에 열린 경기에 출전하였습니다.\"\n",
    "news=news+\"상대 팀은 \"+opponent+\"입니다.\"\n",
    "\n",
    "\n",
    "if score_me>score_you:\n",
    "    news=news+\"손흥민 선수의 팀이 \"+score_me+\"골을 넣어 \"+score_you+\"골을 넣은 상대 팀 을 이겼습니다. \"\n",
    "elif score_me<score_you:\n",
    "    news=news+\"손흥민 선수의 팀이 \"+score_me+\"골을 넣어 \"+score_you+\"골을 넣은 상대 팀 에게 졌습니다. \"\n",
    "else:\n",
    "    news=news+\"두 팀은 \"+score_me+\"대\"+score_you+\"로 비겼습니다.\"\n",
    "if int(goals)>0 and int(aids)>0:\n",
    "    news=news+\"손흥민 선수는 \"+goals+\"골에 도움 \"+aids+\"개로 승리를 크게 이끌었습니다.\"\n",
    "elif int(goals)>0 and int(aids)==0:\n",
    "    news=news+\"손흥민 선수는 \"+goals+\"골로 승리를 이끌었습니다. \"\n",
    "elif int(goals)==0 and int(aids)>0:\n",
    "    news=news+\"손흥민 선수는 골은 없지만 도움 \"+aids+\"개로 승리하는 데 공헌하였습니다. \"\n",
    "else:\n",
    "    news=news+\"아쉽게도 이번 경기에서 손홍민의 발끝은 침묵을 지켰습니다.\"\n",
    "\n",
    "wording=[\"상대 팀을 이겼습니다.\", \"상대를 대상으로 통쾌한 승리를 거머쥐었습니다.\", \"상대 팀 을 꺾었습니다.\"]\n",
    "news=news+\"손홍민 선수의 팀이\"+score_me+\"골을 넣어\"+score_you+\"골을 넣은\"+ random.choice(wording)\n",
    "print(news)\n",
    "\n",
    "\n"
   ]
  },
  {
   "cell_type": "code",
   "execution_count": 4,
   "metadata": {},
   "outputs": [
    {
     "ename": "ImportError",
     "evalue": "cannot import name 'NSSound' from 'AppKit' (/Users/yoonwogud/Desktop/Git/Python/In-depth_Learning/venv/lib/python3.12/site-packages/AppKit/__init__.py)",
     "output_type": "error",
     "traceback": [
      "\u001b[0;31m---------------------------------------------------------------------------\u001b[0m",
      "\u001b[0;31mImportError\u001b[0m                               Traceback (most recent call last)",
      "Cell \u001b[0;32mIn[4], line 6\u001b[0m\n\u001b[1;32m      4\u001b[0m tts \u001b[38;5;241m=\u001b[39m gTTS(text\u001b[38;5;241m=\u001b[39mnews, lang\u001b[38;5;241m=\u001b[39m\u001b[38;5;124m'\u001b[39m\u001b[38;5;124mko\u001b[39m\u001b[38;5;124m'\u001b[39m)\n\u001b[1;32m      5\u001b[0m tts\u001b[38;5;241m.\u001b[39msave(\u001b[38;5;124m\"\u001b[39m\u001b[38;5;124mnews_Son.mp3\u001b[39m\u001b[38;5;124m\"\u001b[39m)\n\u001b[0;32m----> 6\u001b[0m \u001b[43mplaysound\u001b[49m\u001b[38;5;241;43m.\u001b[39;49m\u001b[43mplaysound\u001b[49m\u001b[43m(\u001b[49m\u001b[38;5;124;43m\"\u001b[39;49m\u001b[38;5;124;43mnews_Son.mp3\u001b[39;49m\u001b[38;5;124;43m\"\u001b[39;49m\u001b[43m,\u001b[49m\u001b[43m \u001b[49m\u001b[38;5;28;43;01mTrue\u001b[39;49;00m\u001b[43m)\u001b[49m\n",
      "File \u001b[0;32m~/Desktop/Git/Python/In-depth_Learning/venv/lib/python3.12/site-packages/playsound.py:55\u001b[0m, in \u001b[0;36m_playsoundOSX\u001b[0;34m(sound, block)\u001b[0m\n\u001b[1;32m     43\u001b[0m \u001b[38;5;28;01mdef\u001b[39;00m \u001b[38;5;21m_playsoundOSX\u001b[39m(sound, block \u001b[38;5;241m=\u001b[39m \u001b[38;5;28;01mTrue\u001b[39;00m):\n\u001b[1;32m     44\u001b[0m \u001b[38;5;250m    \u001b[39m\u001b[38;5;124;03m'''\u001b[39;00m\n\u001b[1;32m     45\u001b[0m \u001b[38;5;124;03m    Utilizes AppKit.NSSound. Tested and known to work with MP3 and WAVE on\u001b[39;00m\n\u001b[1;32m     46\u001b[0m \u001b[38;5;124;03m    OS X 10.11 with Python 2.7. Probably works with anything QuickTime supports.\u001b[39;00m\n\u001b[0;32m   (...)\u001b[0m\n\u001b[1;32m     53\u001b[0m \u001b[38;5;124;03m    I never would have tried using AppKit.NSSound without seeing his code.\u001b[39;00m\n\u001b[1;32m     54\u001b[0m \u001b[38;5;124;03m    '''\u001b[39;00m\n\u001b[0;32m---> 55\u001b[0m     \u001b[38;5;28;01mfrom\u001b[39;00m \u001b[38;5;21;01mAppKit\u001b[39;00m     \u001b[38;5;28;01mimport\u001b[39;00m NSSound\n\u001b[1;32m     56\u001b[0m     \u001b[38;5;28;01mfrom\u001b[39;00m \u001b[38;5;21;01mFoundation\u001b[39;00m \u001b[38;5;28;01mimport\u001b[39;00m NSURL\n\u001b[1;32m     57\u001b[0m     \u001b[38;5;28;01mfrom\u001b[39;00m \u001b[38;5;21;01mtime\u001b[39;00m       \u001b[38;5;28;01mimport\u001b[39;00m sleep\n",
      "\u001b[0;31mImportError\u001b[0m: cannot import name 'NSSound' from 'AppKit' (/Users/yoonwogud/Desktop/Git/Python/In-depth_Learning/venv/lib/python3.12/site-packages/AppKit/__init__.py)"
     ]
    }
   ],
   "source": [
    "from gtts import gTTS\n",
    "import playsound\n",
    "\n",
    "tts = gTTS(text=news, lang='ko')\n",
    "tts.save(\"news_Son.mp3\")\n",
    "playsound.playsound(\"news_Son.mp3\", True)"
   ]
  }
 ],
 "metadata": {
  "kernelspec": {
   "display_name": "venv",
   "language": "python",
   "name": "python3"
  },
  "language_info": {
   "codemirror_mode": {
    "name": "ipython",
    "version": 3
   },
   "file_extension": ".py",
   "mimetype": "text/x-python",
   "name": "python",
   "nbconvert_exporter": "python",
   "pygments_lexer": "ipython3",
   "version": "3.12.2"
  }
 },
 "nbformat": 4,
 "nbformat_minor": 2
}
