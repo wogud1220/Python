{
 "cells": [
  {
   "cell_type": "code",
   "execution_count": 1,
   "metadata": {},
   "outputs": [],
   "source": [
    "from selenium import webdriver\n",
    "from selenium.webdriver.common.keys import Keys\n",
    "from selenium.webdriver.chrome.service import Service\n",
    "from webdriver_manager.chrome import ChromeDriverManager\n",
    "import time\n",
    "\n",
    "driver = webdriver.Chrome(service=Service(ChromeDriverManager().install()))\n",
    "\n",
    "\n",
    "# 인스타로 이동\n",
    "driver.get(\"https://www.instagram.com/\")"
   ]
  },
  {
   "cell_type": "code",
   "execution_count": 2,
   "metadata": {},
   "outputs": [],
   "source": [
    "from selenium.webdriver.common.by import By\n",
    "\n",
    "moveFacebook = driver.find_element(By.CSS_SELECTOR, \"#loginForm > div > div:nth-child(5) > button\")\n",
    "moveFacebook.click()\n",
    "\n",
    "inputID = driver.find_element(By.CSS_SELECTOR, \"#email\")\n",
    "inputID.send_keys(\"821082305323\")\n",
    "\n",
    "inputPW = driver.find_element(By.CSS_SELECTOR, \"#pass\")\n",
    "inputPW.send_keys(\"qorgml0105\")\n",
    "\n",
    "loginButton = driver.find_element(By.CSS_SELECTOR, \"#loginbutton\")\n",
    "loginButton.click()"
   ]
  },
  {
   "cell_type": "code",
   "execution_count": 3,
   "metadata": {},
   "outputs": [],
   "source": [
    "# 검색 돋보기 버튼 누르기\n",
    "inputSearch = driver.find_element(By.CSS_SELECTOR,'svg[aria-label=\"검색\"]')\n",
    "# 변하지 않는 값인 svg 태그를 가져다가 씀\n",
    "inputSearch.click()"
   ]
  },
  {
   "cell_type": "code",
   "execution_count": 4,
   "metadata": {},
   "outputs": [],
   "source": [
    "# 입력 창에 faker 입력\n",
    "# 변하지 않는 값인 input 태그를 갖다가 씀\n",
    "\n",
    "searchName = driver.find_element(By.CSS_SELECTOR,\"input[aria-label='입력 검색']\")\n",
    "searchName.send_keys(\"faker\")\n"
   ]
  },
  {
   "cell_type": "code",
   "execution_count": 5,
   "metadata": {},
   "outputs": [],
   "source": [
    "# 첫번째 페이커 클릭하기\n",
    "# xpath로 하기\n",
    "SearchResult1 = driver.find_element(By.XPATH, \"//*[contains(@id, 'mount_')]/div/div/div[2]/div/div/div[1]/div[1]/div[1]/div/div/div[2]/div/div/div[2]/div/div/div[2]/div/a[1]/div[1]/div/div/div[2]/div/div\")\n",
    "SearchResult1.click()\n",
    "\n",
    "\n",
    "#svg aria-label=\"인증됨\"\n",
    "# SearchResult1 = driver.find_element(By.CSS_SELECTOR, 'div[class=\"x9f619 x1n2onr6 x1ja2u2z x78zum5 x1iyjqo2 xs83m0k xeuugli x1qughib x6s0dn4 x1a02dak x1q0g3np xdl72j9\"]')\n",
    "# SearchResult1.click()"
   ]
  },
  {
   "cell_type": "code",
   "execution_count": 77,
   "metadata": {},
   "outputs": [],
   "source": [
    "#mount_0_0_v6 > div > div > div.x9f619.x1n2onr6.x1ja2u2z > div > div > div.x78zum5.xdt5ytf.x1t2pt76.x1n2onr6.x1ja2u2z.x10cihs4 > div.x9f619.xvbhtw8.x78zum5.x168nmei.x13lgxp2.x5pf9jr.xo71vjh.x1uhb9sk.x1plvlek.xryxfnj.x1c4vz4f.x2lah0s.xdt5ytf.xqjyukv.x1qjc9v5.x1oa3qoh.x1qughib > div.x1gryazu.xh8yej3.x10o80wk.x14k21rp.x17snn68.x6osk4m.x1porb0y > div:nth-child(2) > section > main > div > div:nth-child(7) > div > div:nth-child(1) > div:nth-child(1)\n",
    "\n",
    "#copy selector 하면 mount뒤의 값이 변동적이라서 xpath를 가져와야함\n",
    "\n",
    "\n",
    "#   //*[@id=\"scrollview\"]/div/div/div[1]/div[1]/div[2]/div[2]/section/main/div/div[4]/div/div[1]/div[1]\n",
    "# 위는 그냥 xpath를 가져온 것\n",
    "#   //*[contains(@id, 'mount_')]  div앞에 이걸 붙여줘야함\n",
    "\n",
    "#페이커의 첫 게시글 클릭하기\n",
    "first_image = driver.find_element(By.CSS_SELECTOR, \"div[class='_aagw']\")\n",
    "first_image.click()"
   ]
  },
  {
   "cell_type": "code",
   "execution_count": 8,
   "metadata": {},
   "outputs": [],
   "source": [
    "#페이커의 팔로우 목록 가져오기\n",
    "\n",
    "# <a class=\"x1i10hfl xjbqb8w x1ejq31n xd10rxx x1sy0etr x17r0tee x972fbf xcfux6l x1qhh985 xm0m39n x9f619 x1ypdohk xt0psk2 xe8uvvx xdj266r x11i5rnm xat24cr x1mh8g0r xexx8yu x4uap5 x18d9i69 xkhd6sd x16tdsg8 x1hl2dhg xggy1nq x1a2a7pz _alvs _a6hd\" href=\"/faker/followers/\" role=\"link\" tabindex=\"0\">팔로워 <span class=\"_ac2a\" title=\"154.1만\"><span class=\"html-span xdj266r x11i5rnm xat24cr x1mh8g0r xexx8yu x4uap5 x18d9i69 xkhd6sd x1hl2dhg x16tdsg8 x1vvkbs\">154.1만</span></span></a>\n",
    "\n",
    "followers_list_link = driver.find_element(By.CSS_SELECTOR, \"a[class='x1i10hfl xjbqb8w x1ejq31n xd10rxx x1sy0etr x17r0tee x972fbf xcfux6l x1qhh985 xm0m39n x9f619 x1ypdohk xt0psk2 xe8uvvx xdj266r x11i5rnm xat24cr x1mh8g0r xexx8yu x4uap5 x18d9i69 xkhd6sd x16tdsg8 x1hl2dhg xggy1nq x1a2a7pz _alvs _a6hd']\")\n",
    "followers_list_link.click()"
   ]
  },
  {
   "cell_type": "code",
   "execution_count": 9,
   "metadata": {},
   "outputs": [
    {
     "name": "stdout",
     "output_type": "stream",
     "text": [
      "livera_21\n",
      "jihx_1124\n",
      "tq8412895\n",
      "hirundo__812\n",
      "mi_nhieee0911\n",
      "cheburgen_mb\n",
      "print_minzy\n",
      "samulots\n",
      "5xxhr\n",
      "cool_.0621\n",
      "meindark_\n",
      "theshy7780\n",
      "Finish\n"
     ]
    }
   ],
   "source": [
    "#팔로워 목록 출력하기\n",
    "try:\n",
    "    for i in range(1,20):\n",
    "        css_selector_string = \"body > div.x1n2onr6.xzkaem6 > div.x9f619.x1n2onr6.x1ja2u2z > div > div.x1uvtmcs.x4k7w5x.x1h91t0o.x1beo9mf.xaigb6o.x12ejxvf.x3igimt.xarpa2k.xedcshv.x1lytzrv.x1t2pt76.x7ja8zs.x1n2onr6.x1qrby5j.x1jfb8zj > div > div > div > div > div.x7r02ix.xf1ldfh.x131esax.xdajt7p.xxfnqb6.xb88tzc.xw2csxc.x1odjw0f.x5fp0pe > div > div > div._aano > div:nth-child(1) > div > div:nth-child(\"+str(i)+\") > div > div > div > div.x9f619.x1n2onr6.x1ja2u2z.x78zum5.x1iyjqo2.xs83m0k.xeuugli.x1qughib.x6s0dn4.x1a02dak.x1q0g3np.xdl72j9 > div > div > div > div > div > a > div > div > span\"\n",
    "        followers_list = driver.find_element(By.CSS_SELECTOR, css_selector_string)\n",
    "        print(followers_list.text)\n",
    "except:\n",
    "    print(\"Finish\")"
   ]
  },
  {
   "cell_type": "code",
   "execution_count": 10,
   "metadata": {},
   "outputs": [],
   "source": [
    "# 커서를 맨 아래로 내리를 행동을 통해서 새로운 목록을 받아와야 한다.\n",
    "# 커서를 내리는 행동을 코드로 실행\n",
    "# 키보드에서 END를 누르는 행동을 보냄\n",
    "\n",
    "body = driver.find_element(By.CSS_SELECTOR, \"body\")\n",
    "body.send_keys(Keys.END)\n"
   ]
  },
  {
   "cell_type": "code",
   "execution_count": 18,
   "metadata": {},
   "outputs": [
    {
     "name": "stdout",
     "output_type": "stream",
     "text": [
      "//*[contains(@id, 'mount_')]/div/div/div[2]/div/div/div[1]/div[1]/div[2]/div[2]/section/main/div/div[4]/div/div[1]/div[1]\n",
      "a\n",
      "https://scontent.cdninstagram.com/v/t39.30808-6/432783191_18422482360063142_8889691502073926702_n.jpg?stp=dst-jpg_e35&efg=eyJ2ZW5jb2RlX3RhZyI6ImltYWdlX3VybGdlbi4xMDgweDEwODAuc2RyLmYzMDgwOCJ9&_nc_ht=scontent.cdninstagram.com&_nc_cat=102&_nc_ohc=3w-F0qwXlQgAb6bg3Of&edm=APs17CUAAAAA&ccb=7-5&ig_cache_key=MzMyODQ5OTM1OTE0OTYzOTcyOA%3D%3D.2-ccb7-5&oh=00_AfDncpOSCZnLTc1b8pYdVQ7wFdoJ565lW91Gn8uFMvCjJg&oe=6624D30D&_nc_sid=10d13b\n",
      "//*[contains(@id, 'mount_')]/div/div/div[2]/div/div/div[1]/div[1]/div[2]/div[2]/section/main/div/div[4]/div/div[1]/div[2]\n",
      "a\n",
      "https://scontent.cdninstagram.com/v/t51.29350-15/434116908_935131781449974_4006058824403537021_n.jpg?stp=dst-jpg_e15&efg=eyJ2ZW5jb2RlX3RhZyI6ImltYWdlX3VybGdlbi4xMDgweDE5MjAuc2RyLmYyOTM1MCJ9&_nc_ht=scontent.cdninstagram.com&_nc_cat=106&_nc_ohc=2YX-T-ec4F4Ab6OxCeN&edm=APs17CUBAAAA&ccb=7-5&ig_cache_key=MzMyNjkwMDI1Njc2NjA5NTk5Nzg5NjE2MDE3MjMwNTM3Mg%3D%3D.2-ccb7-5&oh=00_AfB47USmRuqnRSAj5mpaykIEyjoYI5LvY6yrtmEkIfePWg&oe=6624D210&_nc_sid=10d13b\n",
      "//*[contains(@id, 'mount_')]/div/div/div[2]/div/div/div[1]/div[1]/div[2]/div[2]/section/main/div/div[4]/div/div[1]/div[3]\n",
      "a\n",
      "https://scontent.cdninstagram.com/v/t51.29350-15/429173163_1460144808241540_1183818961070215846_n.jpg?stp=dst-jpg_e15&efg=eyJ2ZW5jb2RlX3RhZyI6ImltYWdlX3VybGdlbi4xMDgweDE5MjAuc2RyLmYyOTM1MCJ9&_nc_ht=scontent.cdninstagram.com&_nc_cat=104&_nc_ohc=gRdrJWCT0CEAb5bDO1A&edm=APs17CUBAAAA&ccb=7-5&ig_cache_key=MzMwNjU5ODkyMjM1NTQ4Nzk2Nw%3D%3D.2-ccb7-5&oh=00_AfBmLg0yKBGVQLoXyZUHtkqAW2bz7clWqHoEqjjebmzr2g&oe=6624E07E&_nc_sid=10d13b\n",
      "//*[contains(@id, 'mount_')]/div/div/div[2]/div/div/div[1]/div[1]/div[2]/div[2]/section/main/div/div[4]/div/div[2]/div[1]\n",
      "a\n",
      "https://scontent.cdninstagram.com/v/t51.29350-15/427719618_744703047624454_6181950919269155874_n.jpg?stp=dst-jpg_e15&efg=eyJ2ZW5jb2RlX3RhZyI6ImltYWdlX3VybGdlbi41NDB4OTYwLnNkci5mMjkzNTAifQ&_nc_ht=scontent.cdninstagram.com&_nc_cat=110&_nc_ohc=VBUryfMVWfkAb6mhiCn&edm=APs17CUBAAAA&ccb=7-5&ig_cache_key=MzMwMzkxNTA4MzQxODgzMzM4Ng%3D%3D.2-ccb7-5&oh=00_AfASWv0tpQhNsg2Jqsj-LWqx7xsMlO2ttTvM2fsmQrNdPQ&oe=6624D6CC&_nc_sid=10d13b\n",
      "//*[contains(@id, 'mount_')]/div/div/div[2]/div/div/div[1]/div[1]/div[2]/div[2]/section/main/div/div[4]/div/div[2]/div[2]\n",
      "a\n",
      "https://scontent.cdninstagram.com/v/t51.29350-15/421955817_674325054774323_5512053996074979581_n.heic?stp=dst-jpg_e35&efg=eyJ2ZW5jb2RlX3RhZyI6ImltYWdlX3VybGdlbi4xNDQweDE0NDAuc2RyLmYyOTM1MCJ9&_nc_ht=scontent.cdninstagram.com&_nc_cat=111&_nc_ohc=LHx5_eSRY6MAb5NzDmJ&edm=APs17CUBAAAA&ccb=7-5&ig_cache_key=MzI4NjYxMDQ4Mzk2NDAwODIwOA%3D%3D.2-ccb7-5&oh=00_AfBhfov5LhkSF7n-ILT1-GCsIgrbgWhUh9LDo3CFf5cn5Q&oe=6626EDF8&_nc_sid=10d13b\n",
      "//*[contains(@id, 'mount_')]/div/div/div[2]/div/div/div[1]/div[1]/div[2]/div[2]/section/main/div/div[4]/div/div[2]/div[3]\n",
      "a\n",
      "https://scontent.cdninstagram.com/v/t51.29350-15/420589717_1233564124038138_6262174470271563832_n.heic?stp=dst-jpg_e35&efg=eyJ2ZW5jb2RlX3RhZyI6ImltYWdlX3VybGdlbi4xNDQweDE0NDAuc2RyLmYyOTM1MCJ9&_nc_ht=scontent.cdninstagram.com&_nc_cat=106&_nc_ohc=cYSfV-LG4MkAb6C90mX&edm=APs17CUBAAAA&ccb=7-5&ig_cache_key=MzI4NTkxODk5NjMxODAxMTc4Ng%3D%3D.2-ccb7-5&oh=00_AfBQpUGSnnc3NIBW-TXq_HZPFw8ownKifUGqM-TsenyBLg&oe=6626E6BE&_nc_sid=10d13b\n",
      "//*[contains(@id, 'mount_')]/div/div/div[2]/div/div/div[1]/div[1]/div[2]/div[2]/section/main/div/div[4]/div/div[3]/div[1]\n",
      "a\n",
      "https://scontent.cdninstagram.com/v/t51.29350-15/412615972_785714419985382_6661156362641460402_n.heic?stp=dst-jpg_e35&efg=eyJ2ZW5jb2RlX3RhZyI6ImltYWdlX3VybGdlbi4xNDQweDE0NDAuc2RyLmYyOTM1MCJ9&_nc_ht=scontent.cdninstagram.com&_nc_cat=106&_nc_ohc=6zu7IDRnx18Ab4UOPc9&edm=APs17CUBAAAA&ccb=7-5&ig_cache_key=MzI2MjYwMTcwNDA1NDI5OTY5NA%3D%3D.2-ccb7-5&oh=00_AfCyWziz0TFnbppa7blvdTUisOew6POVLc9Fuqs9mZlB9w&oe=6626CC7A&_nc_sid=10d13b\n",
      "//*[contains(@id, 'mount_')]/div/div/div[2]/div/div/div[1]/div[1]/div[2]/div[2]/section/main/div/div[4]/div/div[3]/div[2]\n",
      "a\n",
      "https://scontent.cdninstagram.com/v/t51.29350-15/412190437_765004188858836_1742102503879009018_n.heic?stp=dst-jpg_e35&efg=eyJ2ZW5jb2RlX3RhZyI6ImltYWdlX3VybGdlbi4xNDQweDE0NDAuc2RyLmYyOTM1MCJ9&_nc_ht=scontent.cdninstagram.com&_nc_cat=108&_nc_ohc=LGB2eUg3kRYAb5AU0hA&edm=APs17CUBAAAA&ccb=7-5&ig_cache_key=MzI2MTg4NzUwMDIwOTA4MTQyOA%3D%3D.2-ccb7-5&oh=00_AfDmrh-GeqnTQwVrxAYBMTqd4PQTeCyFRaFEUtRpjvH0UA&oe=6624CE8F&_nc_sid=10d13b\n",
      "//*[contains(@id, 'mount_')]/div/div/div[2]/div/div/div[1]/div[1]/div[2]/div[2]/section/main/div/div[4]/div/div[3]/div[3]\n",
      "a\n",
      "https://scontent.cdninstagram.com/v/t51.29350-15/412285052_319846857542048_2015679290287693500_n.jpg?stp=dst-jpg_e15&efg=eyJ2ZW5jb2RlX3RhZyI6ImltYWdlX3VybGdlbi41NDB4OTYwLnNkci5mMjkzNTAifQ&_nc_ht=scontent.cdninstagram.com&_nc_cat=108&_nc_ohc=-WPSZfcpy7UAb7WhZFF&edm=APs17CUBAAAA&ccb=7-5&ig_cache_key=MzI1NjE2OTE3OTYwMTc2MzQ4NjMyMjExMDczNzQ0Nzc4Mg%3D%3D.2-ccb7-5&oh=00_AfCjDn1dWbc1bwYmw9tj39KPvatgnDvSogNYy2aLZFYJdw&oe=6624EEE5&_nc_sid=10d13b\n",
      "//*[contains(@id, 'mount_')]/div/div/div[2]/div/div/div[1]/div[1]/div[2]/div[2]/section/main/div/div[4]/div/div[4]/div[1]\n",
      "a\n",
      "https://scontent.cdninstagram.com/v/t51.29350-15/408013979_365611342695102_4946158011468941989_n.heic?stp=dst-jpg_e35&efg=eyJ2ZW5jb2RlX3RhZyI6ImltYWdlX3VybGdlbi45NjB4MTIwMC5zZHIuZjI5MzUwIn0&_nc_ht=scontent.cdninstagram.com&_nc_cat=106&_nc_ohc=KSQWF7_7I2YAb6aJW_2&edm=APs17CUBAAAA&ccb=7-5&ig_cache_key=MzI1MjY0MjAzNjY2OTc2ODMwNw%3D%3D.2-ccb7-5&oh=00_AfCnjlsl5YhiveXqxkGVp8NwLpy2QFO21eHekasT8tF8Hg&oe=6626E01F&_nc_sid=10d13b\n",
      "//*[contains(@id, 'mount_')]/div/div/div[2]/div/div/div[1]/div[1]/div[2]/div[2]/section/main/div/div[4]/div/div[4]/div[2]\n",
      "a\n",
      "https://scontent.cdninstagram.com/v/t51.29350-15/407253575_880400603683997_7943810277134407556_n.heic?stp=dst-jpg_e35&efg=eyJ2ZW5jb2RlX3RhZyI6ImltYWdlX3VybGdlbi4xNDQweDE0NDAuc2RyLmYyOTM1MCJ9&_nc_ht=scontent.cdninstagram.com&_nc_cat=105&_nc_ohc=psqgg_e2ToQAb48OA0K&edm=APs17CUBAAAA&ccb=7-5&ig_cache_key=MzI1MTA1ODI1MjQzOTI1NDM2OA%3D%3D.2-ccb7-5&oh=00_AfCRvcSHbQInqFy9XeC_-khlp4YxAWAaElGbckyL0K2JLA&oe=6624F260&_nc_sid=10d13b\n",
      "//*[contains(@id, 'mount_')]/div/div/div[2]/div/div/div[1]/div[1]/div[2]/div[2]/section/main/div/div[4]/div/div[4]/div[3]\n",
      "a\n",
      "https://scontent.cdninstagram.com/v/t51.29350-15/403832291_911521980572796_1294836880747223033_n.heic?stp=dst-jpg_e35&efg=eyJ2ZW5jb2RlX3RhZyI6ImltYWdlX3VybGdlbi4xMDUweDEwNTAuc2RyLmYyOTM1MCJ9&_nc_ht=scontent.cdninstagram.com&_nc_cat=100&_nc_ohc=4JbCWpa92IkAb7OCK0P&edm=APs17CUBAAAA&ccb=7-5&ig_cache_key=MzIzOTYxMzYzMjgwMzAzNDAzNg%3D%3D.2-ccb7-5&oh=00_AfCO4mNlL0DPZxO_UUrx90WaMRrChSARPdA2I2n-cIyOTg&oe=6626D83B&_nc_sid=10d13b\n",
      "//*[contains(@id, 'mount_')]/div/div/div[2]/div/div/div[1]/div[1]/div[2]/div[2]/section/main/div/div[4]/div/div[5]/div[1]\n",
      "a\n",
      "https://scontent.cdninstagram.com/v/t51.29350-15/390906308_853793826182847_9151137805368880906_n.heic?stp=dst-jpg_e35&efg=eyJ2ZW5jb2RlX3RhZyI6ImltYWdlX3VybGdlbi4xNDQweDE0NDAuc2RyLmYyOTM1MCJ9&_nc_ht=scontent.cdninstagram.com&_nc_cat=103&_nc_ohc=qKVLZrTqgDQAb7ETCU5&edm=APs17CUBAAAA&ccb=7-5&ig_cache_key=MzIxMTA5NDU2NTgyNTg3ODc2NA%3D%3D.2-ccb7-5&oh=00_AfDXU21yPqxautfkgOPSnnZyXh1APpRTaVjq6z3CsJdlxQ&oe=6624F560&_nc_sid=10d13b\n",
      "//*[contains(@id, 'mount_')]/div/div/div[2]/div/div/div[1]/div[1]/div[2]/div[2]/section/main/div/div[4]/div/div[5]/div[2]\n",
      "a\n",
      "https://scontent.cdninstagram.com/v/t51.29350-15/384288674_693896939295817_1065569644297936537_n.heic?stp=dst-jpg_e35&efg=eyJ2ZW5jb2RlX3RhZyI6ImltYWdlX3VybGdlbi4xNDQweDE0NDAuc2RyLmYyOTM1MCJ9&_nc_ht=scontent.cdninstagram.com&_nc_cat=101&_nc_ohc=ucu78N6FkqgAb7EOciU&edm=APs17CUBAAAA&ccb=7-5&ig_cache_key=MzIwMzAwNjY1NTQ5OTE5NTU2Ng%3D%3D.2-ccb7-5&oh=00_AfCUJM43jyq_8HujhqPZc1ahZr2YS_mHd927Uutq-u_LGw&oe=6626E297&_nc_sid=10d13b\n",
      "//*[contains(@id, 'mount_')]/div/div/div[2]/div/div/div[1]/div[1]/div[2]/div[2]/section/main/div/div[4]/div/div[5]/div[3]\n",
      "a\n",
      "https://scontent.cdninstagram.com/v/t51.29350-15/356247638_136694002773726_1190490746794152902_n.heic?stp=dst-jpg_e35&efg=eyJ2ZW5jb2RlX3RhZyI6ImltYWdlX3VybGdlbi4xNDQweDEwODAuc2RyLmYyOTM1MCJ9&_nc_ht=scontent.cdninstagram.com&_nc_cat=106&_nc_ohc=tvsD2bdGq2IAb64Rstd&edm=APs17CUBAAAA&ccb=7-5&ig_cache_key=MzEzNDI2OTY0MzkzODQ5NjE0OQ%3D%3D.2-ccb7-5&oh=00_AfC6BELjXqKPh934A93p2PQnTWrWT2bapuzC-tylF7kDeA&oe=6626E09A&_nc_sid=10d13b\n",
      "//*[contains(@id, 'mount_')]/div/div/div[2]/div/div/div[1]/div[1]/div[2]/div[2]/section/main/div/div[4]/div/div[6]/div[1]\n",
      "a\n",
      "https://scontent.cdninstagram.com/v/t51.29350-15/342386113_1270687870228742_569741238195392417_n.webp?stp=dst-jpg_e35&efg=eyJ2ZW5jb2RlX3RhZyI6ImltYWdlX3VybGdlbi4xNDQweDE0NDAuc2RyLmYyOTM1MCJ9&_nc_ht=scontent.cdninstagram.com&_nc_cat=102&_nc_ohc=XOdknzXgPG0Ab6GmBlU&edm=APs17CUBAAAA&ccb=7-5&ig_cache_key=MzA4NTg3MzI0MDIzNzQxNDEzMQ%3D%3D.2-ccb7-5&oh=00_AfC_rqI4nU7qB2BRGd8ObDRkqH8_oTFunkcv4dx8YKGNWQ&oe=6626EA4B&_nc_sid=10d13b\n",
      "//*[contains(@id, 'mount_')]/div/div/div[2]/div/div/div[1]/div[1]/div[2]/div[2]/section/main/div/div[4]/div/div[6]/div[2]\n",
      "a\n",
      "https://scontent.cdninstagram.com/v/t51.29350-15/340844209_229280396423300_7157023096336243859_n.webp?stp=dst-jpg_e35&efg=eyJ2ZW5jb2RlX3RhZyI6ImltYWdlX3VybGdlbi4xMDgweDEwODAuc2RyLmYyOTM1MCJ9&_nc_ht=scontent.cdninstagram.com&_nc_cat=108&_nc_ohc=96MTZtOodZIAb4Pen4G&edm=APs17CUBAAAA&ccb=7-5&ig_cache_key=MzA4MDY4MTU1NzAxMTEwNjA2Ng%3D%3D.2-ccb7-5&oh=00_AfBnZuvmxykBvzOB1sIjX9qqF2azHYzsUlh9Exr6yZqnVA&oe=6624E440&_nc_sid=10d13b\n",
      "//*[contains(@id, 'mount_')]/div/div/div[2]/div/div/div[1]/div[1]/div[2]/div[2]/section/main/div/div[4]/div/div[6]/div[3]\n",
      "a\n",
      "https://scontent.cdninstagram.com/v/t51.29350-15/339806468_481079720796959_3043573847543129719_n.webp?stp=dst-jpg_e35&efg=eyJ2ZW5jb2RlX3RhZyI6ImltYWdlX3VybGdlbi4xNDQweDE0NDAuc2RyLmYyOTM1MCJ9&_nc_ht=scontent.cdninstagram.com&_nc_cat=111&_nc_ohc=dsi2a8yiM0wAb4mB9KN&edm=APs17CUBAAAA&ccb=7-5&ig_cache_key=MzA3NTAwODkwMzQ4MjU0OTc0OQ%3D%3D.2-ccb7-5&oh=00_AfB6kWzfHU6VbkKtKYQQ5jnAAnr2alwRorvA3wDZLKVClw&oe=6626F0EE&_nc_sid=10d13b\n",
      "//*[contains(@id, 'mount_')]/div/div/div[2]/div/div/div[1]/div[1]/div[2]/div[2]/section/main/div/div[4]/div/div[7]/div[1]\n",
      "a\n",
      "https://scontent.cdninstagram.com/v/t51.2885-15/338304699_605660971134229_8844582166951651068_n.jpg?stp=dst-jpg_e15&efg=eyJ2ZW5jb2RlX3RhZyI6ImltYWdlX3VybGdlbi4xMDgweDE5MjAuc2RyLmYzNjMyOSJ9&_nc_ht=scontent.cdninstagram.com&_nc_cat=101&_nc_ohc=i-Yrdbx1NScAb4rWjCQ&edm=APs17CUBAAAA&ccb=7-5&ig_cache_key=MzA2OTAxODM1MjYzMDYxNjI0NQ%3D%3D.2-ccb7-5&oh=00_AfBBkFJ6KRysC6h10b2O78pUdRofWxW7hVu7y04M1kKUkA&oe=6624CFF1&_nc_sid=10d13b\n",
      "//*[contains(@id, 'mount_')]/div/div/div[2]/div/div/div[1]/div[1]/div[2]/div[2]/section/main/div/div[4]/div/div[7]/div[2]\n",
      "a\n",
      "https://scontent.cdninstagram.com/v/t51.29350-15/336955792_758935315750322_2749265470654709396_n.webp?stp=dst-jpg_e35&efg=eyJ2ZW5jb2RlX3RhZyI6ImltYWdlX3VybGdlbi4xNDQweDE0NDAuc2RyLmYyOTM1MCJ9&_nc_ht=scontent.cdninstagram.com&_nc_cat=102&_nc_ohc=1tXrv4l6f7sAb4LjGj-&edm=APs17CUBAAAA&ccb=7-5&ig_cache_key=MzA2Mzk1NzYzOTEzOTM1Mjk3MQ%3D%3D.2-ccb7-5&oh=00_AfDapK3QiGqOTDo-a5Tt6ZbUepbREQVcs0JOW1H6MhBTtQ&oe=6624E278&_nc_sid=10d13b\n",
      "//*[contains(@id, 'mount_')]/div/div/div[2]/div/div/div[1]/div[1]/div[2]/div[2]/section/main/div/div[4]/div/div[7]/div[3]\n",
      "a\n",
      "https://scontent.cdninstagram.com/v/t51.29350-15/334593965_605182311053342_1386047841598499515_n.webp?stp=dst-jpg_e35&efg=eyJ2ZW5jb2RlX3RhZyI6ImltYWdlX3VybGdlbi44NDB4ODQwLnNkci5mMjkzNTAifQ&_nc_ht=scontent.cdninstagram.com&_nc_cat=102&_nc_ohc=dSPMI_6tRt8Ab7i4rZ4&edm=APs17CUBAAAA&ccb=7-5&ig_cache_key=MzA1NTIwMzA0Mzk5MDQ1ODU5Mw%3D%3D.2-ccb7-5&oh=00_AfATKfhE5hiDa0LCaqcTbFBcL8-Dp7fknWcwhVFVdkquTg&oe=6626E631&_nc_sid=10d13b\n",
      "//*[contains(@id, 'mount_')]/div/div/div[2]/div/div/div[1]/div[1]/div[2]/div[2]/section/main/div/div[4]/div/div[8]/div[1]\n",
      "a\n",
      "https://scontent.cdninstagram.com/v/t51.29350-15/332207427_168036742642753_7992214255650886706_n.webp?stp=dst-jpg_e35&efg=eyJ2ZW5jb2RlX3RhZyI6ImltYWdlX3VybGdlbi4xMDgweDEwODAuc2RyLmYyOTM1MCJ9&_nc_ht=scontent.cdninstagram.com&_nc_cat=101&_nc_ohc=hS-uwmTZgPUAb5HCChI&edm=APs17CUBAAAA&ccb=7-5&ig_cache_key=MzA0Mjk0MjQ0NDAzNjMzODQ0OQ%3D%3D.2-ccb7-5&oh=00_AfChn_a7aqFCsbMvDmaqgLdjOcjhFxT7QcwnTqwLhtTNhw&oe=6626E064&_nc_sid=10d13b\n",
      "//*[contains(@id, 'mount_')]/div/div/div[2]/div/div/div[1]/div[1]/div[2]/div[2]/section/main/div/div[4]/div/div[8]/div[2]\n",
      "a\n",
      "https://scontent.cdninstagram.com/v/t51.29350-15/331605637_1320987181812843_5193315236719675013_n.webp?stp=dst-jpg_e35&efg=eyJ2ZW5jb2RlX3RhZyI6ImltYWdlX3VybGdlbi4xNDQweDE0NDAuc2RyLmYyOTM1MCJ9&_nc_ht=scontent.cdninstagram.com&_nc_cat=103&_nc_ohc=kCFSJsY8P28Ab4EeCaR&edm=APs17CUBAAAA&ccb=7-5&ig_cache_key=MzA0MjIyMjcxNTU3MTAxMjgwNA%3D%3D.2-ccb7-5&oh=00_AfAB_ZS4cLT5l47mra2KFmkLfd2vbsIgm15zgJO8R4kkGQ&oe=6626E8A7&_nc_sid=10d13b\n",
      "//*[contains(@id, 'mount_')]/div/div/div[2]/div/div/div[1]/div[1]/div[2]/div[2]/section/main/div/div[4]/div/div[8]/div[3]\n",
      "a\n",
      "https://scontent.cdninstagram.com/v/t51.29350-15/331121647_716046246676212_7166005556136105355_n.webp?stp=dst-jpg_e35&efg=eyJ2ZW5jb2RlX3RhZyI6ImltYWdlX3VybGdlbi4xMDMxeDEwMzEuc2RyLmYyOTM1MCJ9&_nc_ht=scontent.cdninstagram.com&_nc_cat=100&_nc_ohc=4JpoGvH5WToAb5C5t8P&edm=APs17CUBAAAA&ccb=7-5&ig_cache_key=MzA0MDkxMjY0MTExNjQ5MDY1Mw%3D%3D.2-ccb7-5&oh=00_AfB7_5qLB7tOiIjrFjMxhvpIa7PUg9W4mE-Iub9DozENbw&oe=6624FD21&_nc_sid=10d13b\n",
      "//*[contains(@id, 'mount_')]/div/div/div[2]/div/div/div[1]/div[1]/div[2]/div[2]/section/main/div/div[4]/div/div[9]/div[1]\n",
      "a\n",
      "https://scontent.cdninstagram.com/v/t51.2885-15/323808453_213005877762459_2647062035249385089_n.jpg?stp=dst-jpg_e15&efg=eyJ2ZW5jb2RlX3RhZyI6ImltYWdlX3VybGdlbi4xOTIweDEwODAuc2RyLmYzNjMyOSJ9&_nc_ht=scontent.cdninstagram.com&_nc_cat=103&_nc_ohc=6oGRRHf7wfoAb5dIcXJ&edm=APs17CUBAAAA&ccb=7-5&ig_cache_key=MzAwOTY1OTg0MTUxNDAzMTY0Mg%3D%3D.2-ccb7-5&oh=00_AfBPLMW8Ywj9aonbd8_Ygw-iB5735B1nTrSrp-cUds5Hug&oe=6624F5CC&_nc_sid=10d13b\n",
      "//*[contains(@id, 'mount_')]/div/div/div[2]/div/div/div[1]/div[1]/div[2]/div[2]/section/main/div/div[4]/div/div[9]/div[2]\n",
      "a\n",
      "https://scontent.cdninstagram.com/v/t51.29350-15/321209780_503909675060431_4324420553965484921_n.webp?stp=dst-jpg_e35&efg=eyJ2ZW5jb2RlX3RhZyI6ImltYWdlX3VybGdlbi4xNDQweDE0NDAuc2RyLmYyOTM1MCJ9&_nc_ht=scontent.cdninstagram.com&_nc_cat=107&_nc_ohc=XiQaO_VHv8cAb5E6dSD&edm=APs17CUBAAAA&ccb=7-5&ig_cache_key=MzAwMDE1NDc0MTk3NzA3MTM0MQ%3D%3D.2-ccb7-5&oh=00_AfCph03cRawL9raUKuSxioWSUubznUGSiEK4-g-0yAYVHg&oe=6626EC89&_nc_sid=10d13b\n",
      "//*[contains(@id, 'mount_')]/div/div/div[2]/div/div/div[1]/div[1]/div[2]/div[2]/section/main/div/div[4]/div/div[9]/div[3]\n",
      "a\n",
      "https://scontent.cdninstagram.com/v/t51.29350-15/317485090_818264129275562_8771112595391997679_n.jpg?stp=dst-jpg_e35&efg=eyJ2ZW5jb2RlX3RhZyI6ImltYWdlX3VybGdlbi4xNDQweDE4MDAuc2RyLmYyOTM1MCJ9&_nc_ht=scontent.cdninstagram.com&_nc_cat=102&_nc_ohc=OVBTv3BesqMAb6U_Inm&edm=APs17CUBAAAA&ccb=7-5&ig_cache_key=Mjk4NDQ3MTQ1MjQwMjM2NjM1Ng%3D%3D.2-ccb7-5&oh=00_AfCeNvxxmE48buVx7kwg-zRQjy_kunNO1uSL2XsOYHbAVw&oe=6624F1B4&_nc_sid=10d13b\n"
     ]
    }
   ],
   "source": [
    "# 반복되는 패턴의 부분은 반복문으로 작성\n",
    "# 포스트를 Xpath 기반으로 찾고,\n",
    "# 찾은 포스트에서 Tag 이름이 img 인 요소에서 src를 추출\n",
    "\n",
    "import requests\n",
    "\n",
    "try:\n",
    "    for i in range(1,10):\n",
    "        for j in range(1,4):\n",
    "\n",
    "            \"//*[contains(@id, 'mount_')]/div/div/div[2]/div/div/div[1]/div[1]/div[2]/div[2]/section/main/div/div[4]/div/div[\"+str(i)+\"]/div[\"+str(j)+\"]\"\n",
    "\n",
    "\n",
    "            xpath_string = \"//*[contains(@id, 'mount_')]/div/div/div[2]/div/div/div[1]/div[1]/div[2]/div[2]/section/main/div/div[4]/div/div[\" + str(i) + \"]/div[\"+str(j)+\"]\"\n",
    "            print(xpath_string)\n",
    "            post = driver.find_element(By.XPATH, xpath_string)\n",
    "            print('a')\n",
    "            image = post.find_element(By.TAG_NAME, \"img\")\n",
    "            src_url = image.get_attribute(\"src\")\n",
    "            \n",
    "            print(src_url)\n",
    "\n",
    "            response = requests.get(src_url)\n",
    "            time.sleep(3)\n",
    "            if response.status_code == 200:\n",
    "                with open(\"./faker_img/faker_image_\" + str(i) + \"_\"+str(j)+\".jpg\", 'wb') as file:\n",
    "                    file.write(response.content)\n",
    "\n",
    "except:\n",
    "    print(\"FINISH\")"
   ]
  }
 ],
 "metadata": {
  "kernelspec": {
   "display_name": "codeit",
   "language": "python",
   "name": "python3"
  },
  "language_info": {
   "codemirror_mode": {
    "name": "ipython",
    "version": 3
   },
   "file_extension": ".py",
   "mimetype": "text/x-python",
   "name": "python",
   "nbconvert_exporter": "python",
   "pygments_lexer": "ipython3",
   "version": "3.12.2"
  }
 },
 "nbformat": 4,
 "nbformat_minor": 2
}
