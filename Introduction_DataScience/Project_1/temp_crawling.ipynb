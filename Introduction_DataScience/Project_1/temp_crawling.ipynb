{
 "cells": [
  {
   "cell_type": "code",
   "execution_count": 165,
   "metadata": {},
   "outputs": [
    {
     "name": "stdout",
     "output_type": "stream",
     "text": [
      "Data has been written to 노원구.csv\n"
     ]
    }
   ],
   "source": [
    "import requests\n",
    "from bs4 import BeautifulSoup\n",
    "import csv\n",
    "\n",
    "# 웹페이지 URL\n",
    "url = \"https://www.weather.go.kr/w/obs-climate/land/aws-obs.do?db=DAYDB&tm=2023.08.31%2000%3A00&stnId=407&sidoCode=1100000000&sort=&config=\"\n",
    "\n",
    "# 웹페이지 요청\n",
    "response = requests.get(url)\n",
    "response.raise_for_status()  # 요청이 성공했는지 확인\n",
    "\n",
    "# BeautifulSoup을 사용하여 HTML 파싱\n",
    "soup = BeautifulSoup(response.text, 'html.parser')\n",
    "\n",
    "# HTML에 모든 행(tr)을 찾기\n",
    "rows = soup.select('tr')\n",
    "\n",
    "# 데이터 추출\n",
    "data = []\n",
    "for row in rows:\n",
    "    cells = row.find_all('td')\n",
    "    if len(cells) > 1:  # 유효한 데이터 행인지 확인\n",
    "        date_cell = cells[0]  # 날짜 셀\n",
    "        max_temp_cell = cells[2]  # 최고기온 셀 (최저기온이 있는 셀의 다음 셀)\n",
    "        \n",
    "        date = date_cell.text.strip()\n",
    "        max_temp = max_temp_cell.text.strip()\n",
    "        data.append((date, max_temp))\n",
    "\n",
    "# CSV 파일에 데이터 저장\n",
    "csv_filename = '노원구.csv'\n",
    "with open(csv_filename, mode='a', newline='', encoding='utf-8') as file:\n",
    "    writer = csv.writer(file)\n",
    "    writer.writerow(['날짜', '최고기온'])  # 헤더 작성\n",
    "    writer.writerows(data)  # 데이터 작성\n",
    "\n",
    "print(f'Data has been written to {csv_filename}')\n"
   ]
  }
 ],
 "metadata": {
  "kernelspec": {
   "display_name": "bigdata_test",
   "language": "python",
   "name": "python3"
  },
  "language_info": {
   "codemirror_mode": {
    "name": "ipython",
    "version": 3
   },
   "file_extension": ".py",
   "mimetype": "text/x-python",
   "name": "python",
   "nbconvert_exporter": "python",
   "pygments_lexer": "ipython3",
   "version": "3.12.2"
  }
 },
 "nbformat": 4,
 "nbformat_minor": 2
}
