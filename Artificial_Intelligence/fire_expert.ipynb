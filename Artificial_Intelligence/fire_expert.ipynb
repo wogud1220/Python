{
 "cells": [
  {
   "cell_type": "code",
   "execution_count": 1,
   "metadata": {},
   "outputs": [
    {
     "name": "stdout",
     "output_type": "stream",
     "text": [
      "1 ['A', 'B', 'C']\n",
      "0 ['A', 'B', 'C', 'D']\n",
      "2 ['A', 'B', 'C', 'D', 'E']\n",
      "소방서에 신고한다\n"
     ]
    }
   ],
   "source": [
    "# # 역방향 추론\n",
    "def fire_expert_rules(short, n):\n",
    "   if n==0 and \"B\" in short and \"C\" in short: \n",
    "      short.append(\"D\")\n",
    "   if n==1 and \"A\" in short : \n",
    "      short.append(\"C\")\n",
    "   if n==2 and \"D\" in short :    \n",
    "      short.append(\"E\")      \n",
    "\n",
    "short = [\"A\", \"B\"]\n",
    "Open = (1,0,2)\n",
    "\n",
    "for i in Open :\n",
    "    fire_expert_rules(short, i)\n",
    "    print(i, short)\n",
    "if \"E\" in short : print(\"소방서에 신고한다\")\n",
    "\n"
   ]
  },
  {
   "cell_type": "code",
   "execution_count": 2,
   "metadata": {},
   "outputs": [
    {
     "name": "stdout",
     "output_type": "stream",
     "text": [
      "['A', 'B']\n",
      "소방서에 신고한다\n"
     ]
    }
   ],
   "source": [
    "# 순방향 추론\n",
    "def fire_expert(short):\n",
    "   # 주위가 뜨겁고 연기가 나면 불이난다\n",
    "   if \"B\" in short and \"C\" in short: \n",
    "      short.append(\"D\")\n",
    "    # 알람이 울리면 연기가 난다\n",
    "   if \"A\" in short : \n",
    "      short.append(\"C\")\n",
    "    # 불이나면 소방서에 신고한다\n",
    "   if \"D\" in short :    \n",
    "      short.append(\"E\")\n",
    "\n",
    "short = [\"A\", \"B\"]\n",
    "print(short)\n",
    "\n",
    "fire_expert(short)\n",
    "# [A,B,C]\n",
    "if \"E\" in short : print(\"소방서에 신고한다\")\n",
    "fire_expert(short)\n",
    "#[A,B,C,D,E]\n",
    "if \"E\" in short : print(\"소방서에 신고한다\")\n",
    "# 여러번 돌려야한다. \n"
   ]
  },
  {
   "cell_type": "code",
   "execution_count": 1,
   "metadata": {},
   "outputs": [
    {
     "name": "stdout",
     "output_type": "stream",
     "text": [
      "['B', 'C', 'D']\n",
      "건넌다.\n",
      "건넌다.\n"
     ]
    }
   ],
   "source": [
    "# 무단횡단을 한다\n",
    "\n",
    "# 사실 A: 좌우를 살핀다.\n",
    "# 사실 B: 신호등이 없다.\n",
    "# 사실 C: 횡단보도가 없다.\n",
    "# 사실 D: 돌아다니는 차가 없다.\n",
    "# 사실 E: 건넌다.\n",
    "\n",
    "# 규칙 1: 횡단보도가 없고 신호등이 없으면 좌우를 살핀다.\n",
    "# B & C -> A\n",
    "\n",
    "# 규칙 2: 좌우를 살피고 차가 없으면 건넌다.\n",
    "# A & D -> E\n",
    "\n",
    "def fire_expert(short):\n",
    "   if \"B\" in short and \"C\" in short: \n",
    "      short.append(\"A\")\n",
    "   if \"A\" in short and \"D\" in short: \n",
    "      short.append(\"E\")\n",
    "\n",
    "short = [\"B\", \"C\", \"D\"]\n",
    "print(short)\n",
    "\n",
    "fire_expert(short)\n",
    "if \"E\" in short : print(\"건넌다.\")\n",
    "\n",
    "fire_expert(short) # B, C, A\n",
    "if \"E\" in short : print(\"건넌다.\")\n"
   ]
  }
 ],
 "metadata": {
  "kernelspec": {
   "display_name": "test",
   "language": "python",
   "name": "python3"
  },
  "language_info": {
   "codemirror_mode": {
    "name": "ipython",
    "version": 3
   },
   "file_extension": ".py",
   "mimetype": "text/x-python",
   "name": "python",
   "nbconvert_exporter": "python",
   "pygments_lexer": "ipython3",
   "version": "3.12.2"
  }
 },
 "nbformat": 4,
 "nbformat_minor": 2
}
